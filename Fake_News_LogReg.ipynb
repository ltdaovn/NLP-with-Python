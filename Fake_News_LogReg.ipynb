{
  "nbformat": 4,
  "nbformat_minor": 0,
  "metadata": {
    "kernelspec": {
      "display_name": "Python 3",
      "language": "python",
      "name": "python3"
    },
    "language_info": {
      "codemirror_mode": {
        "name": "ipython",
        "version": 3
      },
      "file_extension": ".py",
      "mimetype": "text/x-python",
      "name": "python",
      "nbconvert_exporter": "python",
      "pygments_lexer": "ipython3",
      "version": "3.6.7"
    },
    "colab": {
      "name": "Fake_News_LogReg.ipynb",
      "provenance": [],
      "include_colab_link": true
    }
  },
  "cells": [
    {
      "cell_type": "markdown",
      "metadata": {
        "id": "view-in-github",
        "colab_type": "text"
      },
      "source": [
        "<a href=\"https://colab.research.google.com/github/ltdaovn/NLP-with-Python/blob/master/Fake_News_LogReg.ipynb\" target=\"_parent\"><img src=\"https://colab.research.google.com/assets/colab-badge.svg\" alt=\"Open In Colab\"/></a>"
      ]
    },
    {
      "cell_type": "code",
      "metadata": {
        "colab": {
          "base_uri": "https://localhost:8080/"
        },
        "id": "-pPV1vNYBvuT",
        "outputId": "b8e4e557-3ff8-4fe5-861e-10fff493b7cc"
      },
      "source": [
        "import re\n",
        "import pandas as pd\n",
        "from nltk.stem.porter import PorterStemmer\n",
        "from sklearn.feature_extraction.text import TfidfVectorizer\n",
        "from sklearn.model_selection import train_test_split\n",
        "import pickle\n",
        "from sklearn.linear_model import LogisticRegressionCV\n",
        "\n",
        "!wget -c \"https://raw.githubusercontent.com/ltdaovn/dataset/master/corona_fake.csv\"\n",
        "\n",
        "df = pd.read_csv('corona_fake.csv')\n",
        "\n",
        "df.loc[df['label'] == 'Fake', ['label']] = 'FAKE'\n",
        "df.loc[df['label'] == 'fake', ['label']] = 'FAKE'\n",
        "df.loc[df['source'] == 'facebook', ['source']] = 'Facebook'\n",
        "df.text.fillna(df.title, inplace=True)\n",
        "\n",
        "df.loc[5]['label'] = 'FAKE'\n",
        "df.loc[15]['label'] = 'TRUE'\n",
        "df.loc[43]['label'] = 'FAKE'\n",
        "df.loc[131]['label'] = 'TRUE'\n",
        "df.loc[242]['label'] = 'FAKE'\n",
        "\n",
        "df = df.sample(frac=1).reset_index(drop=True)\n",
        "df.title.fillna('missing', inplace=True)\n",
        "df.source.fillna('missing', inplace=True)\n",
        "\n",
        "df['title_text'] = df['title'] + ' ' + df['text']"
      ],
      "execution_count": 3,
      "outputs": [
        {
          "output_type": "stream",
          "text": [
            "--2021-08-29 13:12:26--  https://raw.githubusercontent.com/ltdaovn/dataset/master/corona_fake.csv\n",
            "Resolving raw.githubusercontent.com (raw.githubusercontent.com)... 185.199.109.133, 185.199.111.133, 185.199.110.133, ...\n",
            "Connecting to raw.githubusercontent.com (raw.githubusercontent.com)|185.199.109.133|:443... connected.\n",
            "HTTP request sent, awaiting response... 416 Range Not Satisfiable\n",
            "\n",
            "    The file is already fully retrieved; nothing to do.\n",
            "\n"
          ],
          "name": "stdout"
        }
      ]
    },
    {
      "cell_type": "code",
      "metadata": {
        "colab": {
          "base_uri": "https://localhost:8080/"
        },
        "id": "vBelTIlSBvuY",
        "outputId": "bc53eced-44d0-4127-a242-e20e84e4bc09"
      },
      "source": [
        "df['label'].value_counts()"
      ],
      "execution_count": 4,
      "outputs": [
        {
          "output_type": "execute_result",
          "data": {
            "text/plain": [
              "TRUE    586\n",
              "FAKE    578\n",
              "Name: label, dtype: int64"
            ]
          },
          "metadata": {},
          "execution_count": 4
        }
      ]
    },
    {
      "cell_type": "code",
      "metadata": {
        "colab": {
          "base_uri": "https://localhost:8080/",
          "height": 289
        },
        "id": "F1XabimNBvua",
        "outputId": "76e7fd2f-e206-45e7-bc4b-2153356e620a"
      },
      "source": [
        "df.head()"
      ],
      "execution_count": 5,
      "outputs": [
        {
          "output_type": "execute_result",
          "data": {
            "text/html": [
              "<div>\n",
              "<style scoped>\n",
              "    .dataframe tbody tr th:only-of-type {\n",
              "        vertical-align: middle;\n",
              "    }\n",
              "\n",
              "    .dataframe tbody tr th {\n",
              "        vertical-align: top;\n",
              "    }\n",
              "\n",
              "    .dataframe thead th {\n",
              "        text-align: right;\n",
              "    }\n",
              "</style>\n",
              "<table border=\"1\" class=\"dataframe\">\n",
              "  <thead>\n",
              "    <tr style=\"text-align: right;\">\n",
              "      <th></th>\n",
              "      <th>title</th>\n",
              "      <th>text</th>\n",
              "      <th>source</th>\n",
              "      <th>label</th>\n",
              "      <th>title_text</th>\n",
              "    </tr>\n",
              "  </thead>\n",
              "  <tbody>\n",
              "    <tr>\n",
              "      <th>0</th>\n",
              "      <td>I have asthma. If I get COVID-19, am I more li...</td>\n",
              "      <td>Yes, asthma may increase your risk of getting ...</td>\n",
              "      <td>https://www.health.harvard.edu/</td>\n",
              "      <td>TRUE</td>\n",
              "      <td>I have asthma. If I get COVID-19, am I more li...</td>\n",
              "    </tr>\n",
              "    <tr>\n",
              "      <th>1</th>\n",
              "      <td>Is coronavirus a manufactured bioweapon that C...</td>\n",
              "      <td>In 2019, a mysterious shipment sent from Canad...</td>\n",
              "      <td>https://www.naturalnews.com/</td>\n",
              "      <td>FAKE</td>\n",
              "      <td>Is coronavirus a manufactured bioweapon that C...</td>\n",
              "    </tr>\n",
              "    <tr>\n",
              "      <th>2</th>\n",
              "      <td>Coronavirus: A\\nCanadian-American study could ...</td>\n",
              "      <td>A Canadian-U.S. study showed that “black peop...</td>\n",
              "      <td>http://www.24jours.com</td>\n",
              "      <td>FAKE</td>\n",
              "      <td>Coronavirus: A\\nCanadian-American study could ...</td>\n",
              "    </tr>\n",
              "    <tr>\n",
              "      <th>3</th>\n",
              "      <td>Coronavirus Coverup – Exclusive Interview Of F...</td>\n",
              "      <td>Coronavirus Coverup – Exclusive Interview Of F...</td>\n",
              "      <td>https://greatgameindia.com/</td>\n",
              "      <td>FAKE</td>\n",
              "      <td>Coronavirus Coverup – Exclusive Interview Of F...</td>\n",
              "    </tr>\n",
              "    <tr>\n",
              "      <th>4</th>\n",
              "      <td>BILL GATES, ROCKEFELLER AND CO ASPIRE TO A POP...</td>\n",
              "      <td>We may be looking at a complete collapse of ou...</td>\n",
              "      <td>https://journal-neo.org/</td>\n",
              "      <td>FAKE</td>\n",
              "      <td>BILL GATES, ROCKEFELLER AND CO ASPIRE TO A POP...</td>\n",
              "    </tr>\n",
              "  </tbody>\n",
              "</table>\n",
              "</div>"
            ],
            "text/plain": [
              "                                               title  ...                                         title_text\n",
              "0  I have asthma. If I get COVID-19, am I more li...  ...  I have asthma. If I get COVID-19, am I more li...\n",
              "1  Is coronavirus a manufactured bioweapon that C...  ...  Is coronavirus a manufactured bioweapon that C...\n",
              "2  Coronavirus: A\\nCanadian-American study could ...  ...  Coronavirus: A\\nCanadian-American study could ...\n",
              "3  Coronavirus Coverup – Exclusive Interview Of F...  ...  Coronavirus Coverup – Exclusive Interview Of F...\n",
              "4  BILL GATES, ROCKEFELLER AND CO ASPIRE TO A POP...  ...  BILL GATES, ROCKEFELLER AND CO ASPIRE TO A POP...\n",
              "\n",
              "[5 rows x 5 columns]"
            ]
          },
          "metadata": {},
          "execution_count": 5
        }
      ]
    },
    {
      "cell_type": "code",
      "metadata": {
        "scrolled": false,
        "id": "bow7YaD5Bvud"
      },
      "source": [
        "df['title_text'][50]"
      ],
      "execution_count": null,
      "outputs": []
    },
    {
      "cell_type": "code",
      "metadata": {
        "id": "ZIepBYyvBvue"
      },
      "source": [
        "def preprocessor(text):\n",
        "    \n",
        "    text = re.sub('<[^>]*>', '', text)\n",
        "    text = re.sub(r'[^\\w\\s]','', text)\n",
        "    text = text.lower()\n",
        "\n",
        "    return text"
      ],
      "execution_count": 7,
      "outputs": []
    },
    {
      "cell_type": "code",
      "metadata": {
        "id": "PWpQc1ZXBvue"
      },
      "source": [
        "df['title_text'] = df['title_text'].apply(preprocessor)"
      ],
      "execution_count": 8,
      "outputs": []
    },
    {
      "cell_type": "code",
      "metadata": {
        "id": "kXoPfVHkBvug"
      },
      "source": [
        "df['title_text'][50]"
      ],
      "execution_count": null,
      "outputs": []
    },
    {
      "cell_type": "code",
      "metadata": {
        "id": "YfmoIJE1Bvuh"
      },
      "source": [
        "porter = PorterStemmer()\n",
        "\n",
        "def tokenizer_porter(text):\n",
        "    return [porter.stem(word) for word in text.split()]"
      ],
      "execution_count": 10,
      "outputs": []
    },
    {
      "cell_type": "code",
      "metadata": {
        "id": "8Ag5tMT0Bvui"
      },
      "source": [
        "tfidf = TfidfVectorizer(strip_accents=None,\n",
        "                        lowercase=False,\n",
        "                        preprocessor=None,\n",
        "                        tokenizer=tokenizer_porter,\n",
        "                        use_idf=True,\n",
        "                        norm='l2',\n",
        "                        smooth_idf=True)\n",
        "X = tfidf.fit_transform(df['title_text'])\n",
        "y = df.label.values"
      ],
      "execution_count": 11,
      "outputs": []
    },
    {
      "cell_type": "code",
      "metadata": {
        "id": "wlnyfBeyBvuk"
      },
      "source": [
        "X_train, X_test, y_train, y_test = train_test_split(X, y, random_state=0, test_size=0.5, shuffle=False)\n",
        "\n",
        "clf = LogisticRegressionCV(cv=5, scoring='accuracy', random_state=0, n_jobs=-1, verbose=3, max_iter=300).fit(X_train, y_train)\n",
        "\n",
        "fake_news_model = open('fake_news_model.sav', 'wb')\n",
        "pickle.dump(clf, fake_news_model)\n",
        "fake_news_model.close()"
      ],
      "execution_count": null,
      "outputs": []
    },
    {
      "cell_type": "code",
      "metadata": {
        "id": "eYnvfOFTBvul"
      },
      "source": [
        "filename = 'fake_news_model.sav'\n",
        "saved_clf = pickle.load(open(filename, 'rb'))\n",
        "\n",
        "saved_clf.score(X_test, y_test)"
      ],
      "execution_count": null,
      "outputs": []
    },
    {
      "cell_type": "code",
      "metadata": {
        "id": "T-vxT9hMBvum"
      },
      "source": [
        "from sklearn.metrics import classification_report, accuracy_score\n",
        "y_pred = clf.predict(X_test)\n",
        "print(\"---Test Set Results---\")\n",
        "print(\"Accuracy with logreg: {}\".format(accuracy_score(y_test, y_pred)))\n",
        "print(classification_report(y_test, y_pred))"
      ],
      "execution_count": null,
      "outputs": []
    }
  ]
}